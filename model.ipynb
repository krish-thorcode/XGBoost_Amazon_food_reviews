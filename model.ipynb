{
 "cells": [
  {
   "cell_type": "code",
   "execution_count": 1,
   "metadata": {},
   "outputs": [],
   "source": [
    "import warnings\n",
    "warnings.filterwarnings('ignore')"
   ]
  },
  {
   "cell_type": "code",
   "execution_count": 2,
   "metadata": {},
   "outputs": [
    {
     "data": {
      "text/plain": [
       "(525814, 10)"
      ]
     },
     "execution_count": 2,
     "metadata": {},
     "output_type": "execute_result"
    }
   ],
   "source": [
    "import sqlite3\n",
    "import pandas as pd\n",
    "\n",
    "connection = sqlite3.connect('database.sqlite')\n",
    "\n",
    "# polarisable_dataset = dataset that contains Score = {1,2,4,5} assuming Score = 3 implies neutral comments and\n",
    "# Score < 3 implies negative comment and Score > 3 implies positive comment\n",
    "df = pd.read_sql_query('select * from REVIEWS WHERE Score != 3', connection)\n",
    "df.shape"
   ]
  },
  {
   "cell_type": "code",
   "execution_count": 3,
   "metadata": {},
   "outputs": [
    {
     "data": {
      "text/plain": [
       "Index(['Id', 'ProductId', 'UserId', 'ProfileName', 'HelpfulnessNumerator',\n",
       "       'HelpfulnessDenominator', 'Score', 'Time', 'Summary', 'Text'],\n",
       "      dtype='object')"
      ]
     },
     "execution_count": 3,
     "metadata": {},
     "output_type": "execute_result"
    }
   ],
   "source": [
    "df.columns"
   ]
  },
  {
   "cell_type": "markdown",
   "metadata": {},
   "source": [
    "if dataset includes Score = 3 rows -- <font color='red'>df[df.Score == 3]['Text'].shape ---Output: (42640,)</font>"
   ]
  },
  {
   "cell_type": "code",
   "execution_count": 4,
   "metadata": {},
   "outputs": [],
   "source": [
    "scores = df['Score']\n",
    "\n",
    "scores = scores.map(lambda x: 0 if x<3 else 1)\n",
    "\n",
    "# polarised_scores.head()\n",
    "\n",
    "df['Score'] = scores"
   ]
  },
  {
   "cell_type": "markdown",
   "metadata": {},
   "source": [
    "## Cleaning "
   ]
  },
  {
   "cell_type": "code",
   "execution_count": 5,
   "metadata": {},
   "outputs": [
    {
     "data": {
      "text/plain": [
       "197082"
      ]
     },
     "execution_count": 5,
     "metadata": {},
     "output_type": "execute_result"
    }
   ],
   "source": [
    "df.duplicated(['UserId', 'Time']).sum()"
   ]
  },
  {
   "cell_type": "code",
   "execution_count": 8,
   "metadata": {},
   "outputs": [
    {
     "name": "stdout",
     "output_type": "stream",
     "text": [
      "(525814, 10)\n",
      "(328732, 10)\n"
     ]
    }
   ],
   "source": [
    "print(df.shape)\n",
    "df = df.drop_duplicates(subset={'UserId', 'Time'}, keep='first', inplace=False)\n",
    "print(df.shape)"
   ]
  },
  {
   "cell_type": "code",
   "execution_count": 9,
   "metadata": {},
   "outputs": [],
   "source": [
    "# dataset cleaners\n",
    "\n",
    "import re\n",
    "\n",
    "def remove_html(sentence):\n",
    "    html_tag_re_obj = re.compile('<.*>?')\n",
    "    return re.sub(html_tag_re_obj, ' ', sentence)\n",
    "\n",
    "def remove_punctuations(sentence):\n",
    "    cleaned_sentence = re.sub(r'[^a-zA-Z]', r' ', sentence)\n",
    "    return cleaned_sentence"
   ]
  },
  {
   "cell_type": "code",
   "execution_count": 10,
   "metadata": {},
   "outputs": [],
   "source": [
    "# call the cleaners\n",
    "\n",
    "# clean dataset\n",
    "\n",
    "corpus = df['Text']\n",
    "\n",
    "cleaned_corpus = []\n",
    "for doc in corpus.values:\n",
    "    cleaned_doc = remove_html(doc)\n",
    "    cleaned_doc = remove_punctuations(cleaned_doc)\n",
    "    cleaned_corpus.append(cleaned_doc)\n",
    "\n",
    "df['Text'] = cleaned_corpus"
   ]
  },
  {
   "cell_type": "code",
   "execution_count": 17,
   "metadata": {},
   "outputs": [],
   "source": [
    "## Removing stopwords\n",
    "\n",
    "from nltk.corpus import stopwords"
   ]
  },
  {
   "cell_type": "code",
   "execution_count": 18,
   "metadata": {},
   "outputs": [
    {
     "name": "stdout",
     "output_type": "stream",
     "text": [
      "{'further', \"hasn't\", \"she's\", 'again', 'yours', 'myself', 'itself', 'below', 't', \"you'd\", 'your', 'are', 'didn', 'with', 'wouldn', 'has', 'our', \"shan't\", 'will', 'when', 'too', 'my', 'this', 'who', 'in', \"doesn't\", 'we', 'me', 'how', 'ours', 'more', 'y', \"won't\", 'can', 'out', 'few', 'what', 'hadn', 'herself', 'she', \"that'll\", \"aren't\", \"hadn't\", 'i', 'because', 'from', 'only', 'some', 'have', 'll', 'shouldn', 'before', 've', 'ain', 'themselves', \"you'll\", 's', 'm', 're', \"haven't\", 'as', 'at', 'hasn', \"wouldn't\", \"it's\", 'her', 'nor', 'all', 'aren', 'was', 'they', 'o', 'between', 'you', 'through', 'yourself', 'is', 'needn', 'very', 'd', 'does', \"couldn't\", 'any', 'am', 'by', 'where', 'own', 'ourselves', 'an', 'them', 'did', 'ma', 'now', 'those', 'under', 'theirs', 'each', 'he', 'up', 'doing', \"should've\", 'these', 'no', \"wasn't\", 'couldn', 'other', 'weren', 'its', 'doesn', 'hers', \"shouldn't\", 'it', 'a', 'above', 'having', 'and', 'down', 'that', 'whom', 'for', 'his', 'their', 'had', 'isn', 'the', 'into', 'or', 'not', \"mustn't\", 'most', 'than', 'so', 'haven', 'won', 'after', 'such', 'been', \"isn't\", \"you've\", 'here', \"didn't\", 'there', 'against', 'to', 'be', 'if', 'off', 'once', 'on', 'don', 'yourselves', 'do', 'himself', 'which', 'of', 'but', \"mightn't\", 'being', \"weren't\", 'were', 'just', \"don't\", 'wasn', 'mightn', 'why', 'him', 'mustn', \"you're\", 'then', 'both', 'same', 'should', 'over', 'while', 'until', 'during', \"needn't\", 'shan', 'about'}\n"
     ]
    }
   ],
   "source": [
    "print(set(stopwords.words('english')))"
   ]
  },
  {
   "cell_type": "code",
   "execution_count": 19,
   "metadata": {},
   "outputs": [
    {
     "name": "stdout",
     "output_type": "stream",
     "text": [
      "104301\n",
      "0\n",
      "0\n"
     ]
    }
   ],
   "source": [
    "## Since the negative food reviews are likely to contain words like \"don't\", \"didn't\", etc that impart important\n",
    "## meaning to the review, we check if such words exist in the corpus that we have. If these words are in the corpus,\n",
    "## then they should not be in the list of stop words that we use for removing the stopwords from our corpus\n",
    "\n",
    "count = 0\n",
    "for doc in df['Text']:\n",
    "    if 'not' in doc:\n",
    "        count += 1\n",
    "\n",
    "print(count)\n",
    "\n",
    "count = 0\n",
    "for doc in df['Text']:\n",
    "    if \"don't\" in doc:\n",
    "        count += 1\n",
    "\n",
    "print(count)\n",
    "\n",
    "count = 0\n",
    "for doc in df['Text']:\n",
    "    if \"didn't\" in doc:\n",
    "        count += 1\n",
    "\n",
    "print(count)"
   ]
  },
  {
   "cell_type": "code",
   "execution_count": 21,
   "metadata": {},
   "outputs": [
    {
     "name": "stdout",
     "output_type": "stream",
     "text": [
      "<class 'nltk.corpus.reader.wordlist.WordListCorpusReader'>\n"
     ]
    }
   ],
   "source": [
    "stopwords_list = stopwords.words('english')\n",
    "print(type(stopwords))"
   ]
  },
  {
   "cell_type": "code",
   "execution_count": 23,
   "metadata": {},
   "outputs": [],
   "source": [
    "## 'not' is present in 104301 docs in the corpus, so we modify the list of stopwords to not contain this word\n",
    "\n",
    "stopwords_set = set(stopwords_list)\n",
    "\n",
    "stopwords_set.remove('not')"
   ]
  },
  {
   "cell_type": "code",
   "execution_count": 24,
   "metadata": {},
   "outputs": [
    {
     "name": "stdout",
     "output_type": "stream",
     "text": [
      "{'further', \"hasn't\", \"she's\", 'again', 'yours', 'myself', 'itself', 'below', 't', \"you'd\", 'your', 'are', 'didn', 'with', 'wouldn', 'has', 'our', \"shan't\", 'will', 'when', 'too', 'my', 'this', 'who', 'in', \"doesn't\", 'we', 'me', 'how', 'ours', 'more', 'y', \"won't\", 'can', 'out', 'few', 'what', 'hadn', 'herself', 'she', \"that'll\", \"aren't\", \"hadn't\", 'i', 'because', 'from', 'only', 'some', 'have', 'll', 'shouldn', 'before', 've', 'ain', 'themselves', \"you'll\", 's', 'm', 're', \"haven't\", 'as', 'at', 'hasn', \"wouldn't\", \"it's\", 'her', 'nor', 'all', 'aren', 'was', 'they', 'o', 'between', 'you', 'through', 'yourself', 'is', 'needn', 'very', 'd', 'does', \"couldn't\", 'any', 'am', 'by', 'where', 'own', 'ourselves', 'an', 'them', 'did', 'ma', 'now', 'those', 'under', 'theirs', 'each', 'he', 'up', 'doing', \"should've\", 'these', 'no', \"wasn't\", 'couldn', 'other', 'weren', 'its', 'doesn', 'hers', \"shouldn't\", 'it', 'a', 'above', 'having', 'and', 'down', 'that', 'whom', 'for', 'his', 'their', 'had', 'isn', 'the', 'into', 'or', \"mustn't\", 'most', 'than', 'so', 'haven', 'won', 'after', 'such', 'been', \"isn't\", \"you've\", 'here', \"didn't\", 'there', 'against', 'to', 'be', 'if', 'off', 'once', 'on', 'don', 'yourselves', 'do', 'himself', 'which', 'of', 'but', \"mightn't\", 'being', \"weren't\", 'were', 'just', \"don't\", 'wasn', 'mightn', 'why', 'him', 'mustn', \"you're\", 'then', 'both', 'same', 'should', 'over', 'while', 'until', 'during', \"needn't\", 'shan', 'about'}\n"
     ]
    }
   ],
   "source": [
    "print(stopwords_set)"
   ]
  },
  {
   "cell_type": "code",
   "execution_count": 25,
   "metadata": {},
   "outputs": [],
   "source": [
    "## lower casing all docs in corpus (deduplicated_dataset['Text'])\n",
    "\n",
    "lower_cased_docs = [doc.lower() for doc in df['Text']]\n",
    "df['Text'] = lower_cased_docs"
   ]
  },
  {
   "cell_type": "code",
   "execution_count": 27,
   "metadata": {},
   "outputs": [
    {
     "name": "stdout",
     "output_type": "stream",
     "text": [
      "<class 'pandas.core.series.Series'>\n"
     ]
    }
   ],
   "source": [
    "corpus = df['Text'] # corpus contains cleaned docs\n",
    "print(type(corpus))"
   ]
  },
  {
   "cell_type": "code",
   "execution_count": 28,
   "metadata": {},
   "outputs": [],
   "source": [
    "docs_without_stop_words = []\n",
    "for i, doc in enumerate(corpus):\n",
    "    non_stop_words_in_doc = []\n",
    "    for word in doc.split():\n",
    "        if word not in stopwords_set:\n",
    "            non_stop_words_in_doc.append(word)\n",
    "    docs_without_stop_words.append(' '.join(non_stop_words_in_doc))"
   ]
  },
  {
   "cell_type": "code",
   "execution_count": 29,
   "metadata": {},
   "outputs": [],
   "source": [
    "from nltk.stem import SnowballStemmer"
   ]
  },
  {
   "cell_type": "code",
   "execution_count": 30,
   "metadata": {},
   "outputs": [],
   "source": [
    "## stemming \n",
    "\n",
    "stemmer = SnowballStemmer('english')"
   ]
  },
  {
   "cell_type": "code",
   "execution_count": 40,
   "metadata": {
    "scrolled": true
   },
   "outputs": [
    {
     "data": {
      "text/plain": [
       "'prove'"
      ]
     },
     "execution_count": 40,
     "metadata": {},
     "output_type": "execute_result"
    }
   ],
   "source": [
    "stemmer.stem('proved')"
   ]
  },
  {
   "cell_type": "code",
   "execution_count": 43,
   "metadata": {},
   "outputs": [
    {
     "data": {
      "text/plain": [
       "328732"
      ]
     },
     "execution_count": 43,
     "metadata": {},
     "output_type": "execute_result"
    }
   ],
   "source": [
    "# type(docs_without_stop_words)\n",
    "len(docs_without_stop_words)"
   ]
  },
  {
   "cell_type": "code",
   "execution_count": 39,
   "metadata": {},
   "outputs": [],
   "source": [
    "stemmed_corpus = [] # docs with stemmed words\n",
    "for doc in docs_without_stop_words:\n",
    "    stemmed_words = []\n",
    "    for word in doc.split():\n",
    "        stemmed_words.append(stemmer.stem(word))\n",
    "    stemmed_doc = ' '.join(stemmed_words)\n",
    "    stemmed_corpus.append(stemmed_doc)"
   ]
  },
  {
   "cell_type": "code",
   "execution_count": 41,
   "metadata": {},
   "outputs": [
    {
     "data": {
      "text/plain": [
       "328732"
      ]
     },
     "execution_count": 41,
     "metadata": {},
     "output_type": "execute_result"
    }
   ],
   "source": [
    "len(stemmed_corpus)"
   ]
  },
  {
   "cell_type": "code",
   "execution_count": null,
   "metadata": {},
   "outputs": [],
   "source": [
    "print(stemmed_corpus[:5])"
   ]
  },
  {
   "cell_type": "markdown",
   "metadata": {},
   "source": [
    "## TF-IDF"
   ]
  },
  {
   "cell_type": "code",
   "execution_count": 44,
   "metadata": {},
   "outputs": [],
   "source": [
    "from sklearn.feature_extraction.text import TfidfVectorizer"
   ]
  },
  {
   "cell_type": "code",
   "execution_count": 45,
   "metadata": {},
   "outputs": [],
   "source": [
    "tfidf_vectorizer = TfidfVectorizer()"
   ]
  },
  {
   "cell_type": "code",
   "execution_count": 47,
   "metadata": {},
   "outputs": [],
   "source": [
    "tfidf_vectorized_ = tfidf_vectorizer.fit_transform(stemmed_corpus)"
   ]
  },
  {
   "cell_type": "code",
   "execution_count": 51,
   "metadata": {},
   "outputs": [
    {
     "data": {
      "text/plain": [
       "23"
      ]
     },
     "execution_count": 51,
     "metadata": {},
     "output_type": "execute_result"
    }
   ],
   "source": [
    "len(stemmed_corpus[0].split(' '))"
   ]
  },
  {
   "cell_type": "code",
   "execution_count": 54,
   "metadata": {},
   "outputs": [
    {
     "data": {
      "text/plain": [
       "(1, 57059)"
      ]
     },
     "execution_count": 54,
     "metadata": {},
     "output_type": "execute_result"
    }
   ],
   "source": [
    "# type(tfidf_vectorized_) -- type sparse matrix\n",
    "tfidf_vectorized_[0].shape"
   ]
  },
  {
   "cell_type": "code",
   "execution_count": 56,
   "metadata": {},
   "outputs": [
    {
     "data": {
      "text/plain": [
       "(328732, 57059)"
      ]
     },
     "execution_count": 56,
     "metadata": {},
     "output_type": "execute_result"
    }
   ],
   "source": [
    "tfidf_vectorized_.shape"
   ]
  },
  {
   "cell_type": "code",
   "execution_count": 60,
   "metadata": {},
   "outputs": [],
   "source": [
    "tfidf_vectorized__subset = tfidf_vectorized_[:5000]"
   ]
  },
  {
   "cell_type": "code",
   "execution_count": 61,
   "metadata": {},
   "outputs": [
    {
     "data": {
      "text/plain": [
       "(5000, 57059)"
      ]
     },
     "execution_count": 61,
     "metadata": {},
     "output_type": "execute_result"
    }
   ],
   "source": [
    "tfidf_vectorized__subset.shape"
   ]
  },
  {
   "cell_type": "code",
   "execution_count": 68,
   "metadata": {},
   "outputs": [],
   "source": [
    "df_subset = df.iloc[:5000]"
   ]
  },
  {
   "cell_type": "code",
   "execution_count": 70,
   "metadata": {},
   "outputs": [
    {
     "data": {
      "text/plain": [
       "1    4191\n",
       "0     809\n",
       "Name: Score, dtype: int64"
      ]
     },
     "execution_count": 70,
     "metadata": {},
     "output_type": "execute_result"
    }
   ],
   "source": [
    "df_subset['Score'].value_counts()"
   ]
  },
  {
   "cell_type": "code",
   "execution_count": 65,
   "metadata": {},
   "outputs": [
    {
     "data": {
      "text/plain": [
       "1    275721\n",
       "0     53011\n",
       "Name: Score, dtype: int64"
      ]
     },
     "execution_count": 65,
     "metadata": {},
     "output_type": "execute_result"
    }
   ],
   "source": [
    "df['Score'].value_counts()"
   ]
  },
  {
   "cell_type": "markdown",
   "metadata": {},
   "source": [
    "### <font color='red'>Comment: </font> The dataset is imbalanced. Even the subset of the dataset is imbalanced"
   ]
  },
  {
   "cell_type": "markdown",
   "metadata": {},
   "source": [
    "### Handling imbalance in the dataset"
   ]
  },
  {
   "cell_type": "markdown",
   "metadata": {},
   "source": [
    "### <font color='blue'> 1. Model Selection</font>"
   ]
  },
  {
   "cell_type": "markdown",
   "metadata": {},
   "source": [
    "#### <font color='green'>First:</font> XGBoost\n",
    "The model has been chosen because:\n",
    "1. Dataset is imbalanced: XGBoost comes with a predefined hyperparameter called scale_pos_weight that takes care of the imbalance in the dataset by using over/undersampling.\n",
    "2. Ensemble learning technique: It is a boosting technique (not a bagging technique)\n",
    "3. Expected to work better than other alggorithms for smaller datasets as well as high dimensional datasets."
   ]
  },
  {
   "cell_type": "code",
   "execution_count": null,
   "metadata": {},
   "outputs": [],
   "source": [
    "### tune xgboost model using k-fold CV (k=5)\n",
    "\n",
    "from sklearn.model_selection import GridSearchCV\n",
    "params = {\n",
    "  'min_child_weight':[5,6],\n",
    "  'max_depth': range(3,10,2),\n",
    "  'n_estimators':[150,200,300,400],\n",
    "  'scale_pos_weight':[1,2,3,4],\n",
    "  'colsample_bytree':[0.7,0.8], \n",
    "  'subsample':[0.7,0.8],\n",
    "  'gamma':[0,0.2.0.4]\n",
    "    \n",
    "}"
   ]
  },
  {
   "cell_type": "code",
   "execution_count": 75,
   "metadata": {},
   "outputs": [],
   "source": [
    "from xgboost import XGBClassifier"
   ]
  },
  {
   "cell_type": "code",
   "execution_count": null,
   "metadata": {},
   "outputs": [],
   "source": [
    "best_hyperparameter_values = GridSearchCV(estimator = XGBClassifier(objective= 'binary:logistic', nthread=4,\n",
    "                                                                    random_state=27),\n",
    "                                          param_grid = params, scoring='f1',n_jobs=4,iid=False, cv=5)"
   ]
  },
  {
   "cell_type": "code",
   "execution_count": null,
   "metadata": {},
   "outputs": [],
   "source": [
    "classifier_xgb = XGBClassifier(learning_rate=0.1, n_estimators=200, max_depth=4, min_child_weight=7, \n",
    "                      gamma=0.4,nthread=4, subsample=0.8, colsample_bytree=0.8, objective= 'binary:logistic',scale_pos_weight=3,seed=29)\n",
    "classifer_xg.fit(X_train, y_train)\n",
    "y_pred = classifier_xg.predict(X_test)"
   ]
  }
 ],
 "metadata": {
  "kernelspec": {
   "display_name": "Python 3",
   "language": "python",
   "name": "python3"
  },
  "language_info": {
   "codemirror_mode": {
    "name": "ipython",
    "version": 3
   },
   "file_extension": ".py",
   "mimetype": "text/x-python",
   "name": "python",
   "nbconvert_exporter": "python",
   "pygments_lexer": "ipython3",
   "version": "3.6.5"
  },
  "varInspector": {
   "cols": {
    "lenName": 16,
    "lenType": 16,
    "lenVar": 40
   },
   "kernels_config": {
    "python": {
     "delete_cmd_postfix": "",
     "delete_cmd_prefix": "del ",
     "library": "var_list.py",
     "varRefreshCmd": "print(var_dic_list())"
    },
    "r": {
     "delete_cmd_postfix": ") ",
     "delete_cmd_prefix": "rm(",
     "library": "var_list.r",
     "varRefreshCmd": "cat(var_dic_list()) "
    }
   },
   "types_to_exclude": [
    "module",
    "function",
    "builtin_function_or_method",
    "instance",
    "_Feature"
   ],
   "window_display": false
  }
 },
 "nbformat": 4,
 "nbformat_minor": 2
}
